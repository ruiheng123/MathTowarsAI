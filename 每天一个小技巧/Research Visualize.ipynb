{
 "cells": [
  {
   "cell_type": "markdown",
   "metadata": {},
   "source": [
    "## Visualize 手段技巧\n",
    "\n",
    "在科研中，有时候可视化是一个很重要的技能，对帮助我们理解是哪里发生了问题起到了非常重要的作用。\n",
    "\n"
   ]
  },
  {
   "cell_type": "markdown",
   "metadata": {},
   "source": [
    "### 理解 `ax`\n",
    "\n",
    "我们一般都是使用 `matplotlib` 去可视化一些东西。而且为了更具有对比性一目了然，我们还往往都是使用 `subplot` 去做多个子图，以便形成鲜明对比，从而得到更好的可视化效果。\n",
    "\n",
    "如果你加入子图，那你会经常看到：这一行\n",
    "\n",
    "```py\n",
    "fig, ax = plt.subplots(figsize=(10, 5))\n",
    "```\n",
    "\n",
    "我们先来看一下 `ax` 的含义。`ax` 是 `matplotlib` 中的一个对象，它代表了一个子图。我们可以通过 `ax` 来设置子图的标题、标签、刻度等等。"
   ]
  }
 ],
 "metadata": {
  "kernelspec": {
   "display_name": "Python 3",
   "language": "python",
   "name": "python3"
  },
  "language_info": {
   "name": "python",
   "version": "3.10.6"
  }
 },
 "nbformat": 4,
 "nbformat_minor": 2
}
