{
 "cells": [
  {
   "cell_type": "markdown",
   "metadata": {},
   "source": [
    "## Visualize 手段技巧\n",
    "\n",
    "在科研中，有时候可视化是一个很重要的技能，对帮助我们理解是哪里发生了问题起到了非常重要的作用。\n",
    "\n"
   ]
  },
  {
   "cell_type": "markdown",
   "metadata": {},
   "source": [
    "### 理解 `ax`\n",
    "\n",
    "我们一般都是使用 `matplotlib` 去可视化一些东西。而且为了更具有对比性一目了然，我们还往往都是使用 `subplot` 去做多个子图，以便形成鲜明对比，从而得到更好的可视化效果。\n",
    "\n",
    "如果你加入子图，那你会经常看到：这一行\n",
    "\n",
    "```py\n",
    "fig, ax = plt.subplots(figsize=(10, 5))\n",
    "```\n",
    "\n",
    "我们先来看一下 `ax` 的含义。`ax` 是 `matplotlib` 中的一个对象，它代表了一个子图。我们可以通过 `ax` 来设置子图的标题、标签、刻度等等。"
   ]
  },
  {
   "cell_type": "markdown",
   "metadata": {},
   "source": [
    "第一种：直接创建一个 figure，然后上面一个一个加入子图。这个时候`ax1.plot()`就可以在第一个子图上画线。类似的其余也是。\n",
    "\n",
    "```py\n",
    "fig = plt.figure(figsize)\n",
    "ax1 = fig.add_subplot(1, 3, 1)  # 创建第1个子图\n",
    "ax2 = fig.add_subplot(1, 3, 2)  # 创建第2个子图\n",
    "ax3 = fig.add_subplot(1, 3, 3)  # 创建第3个子图\n",
    "```\n",
    "\n",
    "\n",
    "第二种：一次创建所有的 `axes`，不过一般在一开始指定子图个数。\n",
    "\n",
    "```py\n",
    "fig, axes = plt.subplots(1, 3, figsize)\n",
    "axes[0], axes[1], axes[2]\n",
    "```\n"
   ]
  }
 ],
 "metadata": {
  "kernelspec": {
   "display_name": "Python 3",
   "language": "python",
   "name": "python3"
  },
  "language_info": {
   "codemirror_mode": {
    "name": "ipython",
    "version": 3
   },
   "file_extension": ".py",
   "mimetype": "text/x-python",
   "name": "python",
   "nbconvert_exporter": "python",
   "pygments_lexer": "ipython3",
   "version": "3.10.6"
  }
 },
 "nbformat": 4,
 "nbformat_minor": 2
}
