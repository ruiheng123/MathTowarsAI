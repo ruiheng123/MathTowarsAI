{
 "cells": [
  {
   "cell_type": "code",
   "execution_count": 4,
   "metadata": {},
   "outputs": [
    {
     "name": "stdout",
     "output_type": "stream",
     "text": [
      "* Running on local URL:  http://127.0.0.1:7863\n",
      "* Running on public URL: https://94b0691ebeb6e8cdbc.gradio.live\n",
      "\n",
      "This share link expires in 72 hours. For free permanent hosting and GPU upgrades, run `gradio deploy` from the terminal in the working directory to deploy to Hugging Face Spaces (https://huggingface.co/spaces)\n"
     ]
    },
    {
     "data": {
      "text/html": [
       "<div><iframe src=\"https://94b0691ebeb6e8cdbc.gradio.live\" width=\"100%\" height=\"500\" allow=\"autoplay; camera; microphone; clipboard-read; clipboard-write;\" frameborder=\"0\" allowfullscreen></iframe></div>"
      ],
      "text/plain": [
       "<IPython.core.display.HTML object>"
      ]
     },
     "metadata": {},
     "output_type": "display_data"
    },
    {
     "name": "stderr",
     "output_type": "stream",
     "text": [
      "C:\\Users\\wangy\\AppData\\Local\\Temp\\ipykernel_42956\\2317529099.py:33: FutureWarning: The behavior of DataFrame concatenation with empty or all-NA entries is deprecated. In a future version, this will no longer exclude empty or all-NA columns when determining the result dtypes. To retain the old behavior, exclude the relevant entries before the concat operation.\n",
      "  history = pd.concat([history, new_entry], ignore_index=True)\n"
     ]
    }
   ],
   "source": [
    "import gradio as gr\n",
    "import pandas as pd\n",
    "from datetime import datetime\n",
    "\n",
    "# 全局变量存储历史记录\n",
    "history = pd.DataFrame(columns=[\"时间\", \"运算式\", \"结果\"])\n",
    "\n",
    "def calculate(num1, num2, operator):\n",
    "    global history\n",
    "    try:\n",
    "        num1, num2 = float(num1), float(num2)\n",
    "        if operator == \"+\":\n",
    "            result = num1 + num2\n",
    "        elif operator == \"-\":\n",
    "            result = num1 - num2\n",
    "        elif operator == \"×\":\n",
    "            result = num1 * num2\n",
    "        elif operator == \"÷\":\n",
    "            if num2 == 0:\n",
    "                return \"错误：除数不能为零！\", history\n",
    "            result = num1 / num2\n",
    "        elif operator == \"^\":\n",
    "            result = num1 ** num2\n",
    "        else:\n",
    "            return \"错误：无效运算符！\", history\n",
    "        \n",
    "        # 记录历史（网页1[1](@ref)的扩展）\n",
    "        new_entry = pd.DataFrame({\n",
    "            \"时间\": [datetime.now().strftime(\"%Y-%m-%d %H:%M:%S\")],\n",
    "            \"运算式\": [f\"{num1} {operator} {num2}\"],\n",
    "            \"结果\": [result]\n",
    "        })\n",
    "        history = pd.concat([history, new_entry], ignore_index=True)\n",
    "        \n",
    "        return f\"结果：{result:.2f}\", history\n",
    "    \n",
    "    except ValueError:\n",
    "        return \"错误：请输入有效数字！\", history\n",
    "\n",
    "# 界面布局（结合网页3[3](@ref)的CSS样式和网页4[4](@ref)的布局优化）\n",
    "css = \"\"\"\n",
    "table td { white-space: pre-line; }  /* 表格换行（网页3[3](@ref)） */\n",
    ".green-alert { border: 2px solid #4CAF50; }  /* 自定义警告框样式 */\n",
    "\"\"\"\n",
    "\n",
    "with gr.Blocks(css=css, title=\"高级计算器\") as demo:\n",
    "    with gr.Row():\n",
    "        # 输入区域（网页4[4](@ref)的紧凑布局）\n",
    "        with gr.Column(scale=1):\n",
    "            gr.Markdown(\"## 🧮 四则运算器\")\n",
    "            num1 = gr.Number(label=\"第一个数字\", precision=2)\n",
    "            operator = gr.Dropdown([\"+\", \"-\", \"×\", \"÷\", \"^\"], label=\"运算符\", value=\"+\")\n",
    "            num2 = gr.Number(label=\"第二个数字\", precision=2)\n",
    "            calc_btn = gr.Button(\"计算\", variant=\"primary\")\n",
    "            alert = gr.Textbox(label=\"状态\", visible=False, elem_classes=\"green-alert\")\n",
    "        \n",
    "        # 输出区域（网页1[1](@ref)的历史记录增强）\n",
    "        with gr.Column(scale=2):\n",
    "            output = gr.Textbox(label=\"计算结果\", interactive=False)\n",
    "            history_table = gr.DataFrame(\n",
    "                headers=[\"时间\", \"运算式\", \"结果\"],\n",
    "                datatype=[\"str\", \"str\", \"number\"],\n",
    "                interactive=False,\n",
    "                label=\"📜 历史记录（最近10条）\"\n",
    "            )\n",
    "            clear_btn = gr.Button(\"清空历史\", variant=\"secondary\")\n",
    "\n",
    "    # 事件绑定（网页6[6](@ref)的交互逻辑扩展）\n",
    "    calc_btn.click(\n",
    "        fn=calculate,\n",
    "        inputs=[num1, num2, operator],\n",
    "        outputs=[output, history_table],\n",
    "        api_name=\"calculate\"\n",
    "    )\n",
    "    \n",
    "    clear_btn.click(\n",
    "        fn=lambda: pd.DataFrame(columns=[\"时间\", \"运算式\", \"结果\"]),\n",
    "        outputs=history_table,\n",
    "        api_name=\"clear_history\"\n",
    "    )\n",
    "\n",
    "if __name__ == \"__main__\":\n",
    "    demo.launch(share=True)"
   ]
  },
  {
   "cell_type": "code",
   "execution_count": 17,
   "metadata": {},
   "outputs": [
    {
     "name": "stdout",
     "output_type": "stream",
     "text": [
      "1\n"
     ]
    }
   ],
   "source": [
    "nums = int(input())\n",
    "\n",
    "num_list = list(map(int, input().split()))\n",
    "query_num = int(input())\n",
    "\n",
    "num_list.sort(reverse=True)\n",
    "print(num_list.index(query_num)+1)"
   ]
  },
  {
   "cell_type": "code",
   "execution_count": 27,
   "metadata": {},
   "outputs": [
    {
     "data": {
      "text/plain": [
       "(200, 100)"
      ]
     },
     "execution_count": 27,
     "metadata": {},
     "output_type": "execute_result"
    }
   ],
   "source": [
    "my_input = input()\n",
    "a, b = my_input.split(\"*\")\n",
    "a = int(a)\n",
    "b = int(b[:-1])\n",
    "a, b"
   ]
  },
  {
   "cell_type": "code",
   "execution_count": null,
   "metadata": {},
   "outputs": [
    {
     "name": "stdout",
     "output_type": "stream",
     "text": [
      "34\n",
      "4\n"
     ]
    }
   ],
   "source": [
    "n = int(input())\n",
    "nums = list(map(int, input().split()))\n",
    "extended_nums = nums + nums[:3]  # 处理环形结构\n",
    "\n",
    "max_sum = -1\n",
    "start_pos = 0\n",
    "\n",
    "for i in range(n):\n",
    "    current_sum = sum(extended_nums[i:i+4])\n",
    "    if current_sum > max_sum:\n",
    "        max_sum = current_sum\n",
    "        start_pos = i + 1  # 题目中位置从1开始计数\n",
    "\n",
    "print(max_sum)\n",
    "print(start_pos if start_pos <= n else start_pos - n)"
   ]
  },
  {
   "cell_type": "code",
   "execution_count": null,
   "metadata": {},
   "outputs": [
    {
     "name": "stdout",
     "output_type": "stream",
     "text": [
      "16\n"
     ]
    }
   ],
   "source": [
    "    n = int(input())\n",
    "\n",
    "    # 生成所有可能的2的幂，直到超过2n\n",
    "    powers_of_two = []\n",
    "    power = 1\n",
    "    while power <= 2 * n:\n",
    "        powers_of_two.append(power)\n",
    "        power *= 2\n",
    "\n",
    "    # 找到距离n最近的2的幂\n",
    "    min_distance = float('inf')\n",
    "    closest_power = None\n",
    "\n",
    "    for num in powers_of_two:\n",
    "        distance = abs(num - n)\n",
    "        if distance < min_distance:\n",
    "            min_distance = distance\n",
    "            closest_power = num\n",
    "        elif distance == min_distance:\n",
    "            if num < closest_power:\n",
    "                closest_power = num\n",
    "\n",
    "    print(closest_power)"
   ]
  },
  {
   "cell_type": "code",
   "execution_count": null,
   "metadata": {},
   "outputs": [],
   "source": [
    "def main():\n",
    "    #code here\n",
    "    n, x = map(int, input().split())\n",
    "    num_list = map(int, input().split())\n",
    "    index = 0\n",
    "    for i in range(n):\n",
    "        if x > num_list[i]:\n",
    "            index += 1\n",
    "    num_list = num_list.insert(index, x)\n",
    "    print(*num_list)"
   ]
  }
 ],
 "metadata": {
  "kernelspec": {
   "display_name": "Python 3",
   "language": "python",
   "name": "python3"
  },
  "language_info": {
   "codemirror_mode": {
    "name": "ipython",
    "version": 3
   },
   "file_extension": ".py",
   "mimetype": "text/x-python",
   "name": "python",
   "nbconvert_exporter": "python",
   "pygments_lexer": "ipython3",
   "version": "3.10.6"
  }
 },
 "nbformat": 4,
 "nbformat_minor": 2
}
