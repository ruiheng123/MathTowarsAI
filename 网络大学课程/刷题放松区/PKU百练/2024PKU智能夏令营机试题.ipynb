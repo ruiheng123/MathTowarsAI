{
 "cells": [
  {
   "cell_type": "markdown",
   "metadata": {},
   "source": [
    "## 2024年北大智能学院夏令营机试题\n",
    "\n",
    "题目传送门：[here](http://bailian.openjudge.cn/xly2024062701)\n"
   ]
  },
  {
   "cell_type": "markdown",
   "metadata": {},
   "source": [
    "### 题目1：画矩形\n",
    "\n",
    "签到题，两层循环遍历即可，非首行或者尾行就是 列数-2 个空格，首尾各加一个符号。不嫌麻烦一层循环一行搞定。\n",
    "\n",
    "实力能进PKU智能夏令营了，通过率100%不足为奇。"
   ]
  },
  {
   "cell_type": "code",
   "execution_count": null,
   "metadata": {},
   "outputs": [
    {
     "name": "stdout",
     "output_type": "stream",
     "text": [
      "@@@@@@@\n",
      "@     @\n",
      "@     @\n",
      "@     @\n",
      "@     @\n",
      "@     @\n",
      "@@@@@@@\n"
     ]
    }
   ],
   "source": [
    "# 输入四个：第一个为高，第二个为宽，第三个为打的字符，第四个为是否填充（实心1空心0）\n",
    "height, width, chars, if_filled = input().split()\n",
    "height, width = int(height), int(width)\n",
    "if_filled = True if if_filled == '1' else False\n",
    "\n",
    "for i in range(height):\n",
    "    if if_filled:\n",
    "        print(chars * width)\n",
    "    else:\n",
    "        print(chars * width if (i == 0 or i == height - 1) else chars + ' ' * (width - 2) + chars)\n"
   ]
  },
  {
   "cell_type": "markdown",
   "metadata": {},
   "source": [
    "### 题目2：采花生\n",
    "\n",
    "因为顺序必须是按照花生数从多到少采，所以可以先把所有的花生按照花生数从大到小排序，然后按照顺序去采。\n",
    "\n",
    "从前一个到下一个的花生距离就是 L1 范数，因为只能横竖移动。\n",
    "\n",
    "只要计算出够采几个就行了。\n",
    "\n",
    "为此，可以把每个花生的`(i, j)`提取出，形成`(num, rol, col)`的三元组。按照花生个数`num`从大到小排序。\n",
    "- 从路边到第一个花生的时间是 row + 1\n",
    "- 从前一个花生到后一个花生的时间是 abs(pre_rol - cur_rol) + abs(pre_col - cur_col)\n",
    "- 采摘这个花生还需要一个时间，所以到达并采摘的时间要在此基础上 +1\n",
    "- 采摘完后，返回路边的时间是 row + 1\n",
    "- 只要满足已花费时间 + 到达下一个并采摘时间 + 返回路边时间 <= 总时间，就可以采摘这一个，同时把已花费时间算进去。"
   ]
  },
  {
   "cell_type": "code",
   "execution_count": null,
   "metadata": {},
   "outputs": [
    {
     "name": "stdout",
     "output_type": "stream",
     "text": [
      "28\n"
     ]
    }
   ],
   "source": [
    "def max_peanuts(M, N, K, field):\n",
    "    # 提取所有有花生的植株及其位置\n",
    "    plants = []\n",
    "    for i in range(M):\n",
    "        for j in range(N):\n",
    "            if field[i][j] > 0:\n",
    "                plants.append((field[i][j], i, j))\n",
    "    \n",
    "    # 按照花生数量从多到少排序\n",
    "    plants.sort(reverse=True, key=lambda x: x[0])\n",
    "    \n",
    "    total_peanuts = 0\n",
    "    time_spent = 0\n",
    "    current_row, current_col = -1, -1  # 当前多多的位置，-1表示在路边\n",
    "\n",
    "    for peanuts, row, col in plants:\n",
    "        if current_row == -1:\n",
    "            # 从路边跳到第一行\n",
    "            time_to_reach = row + 1\n",
    "        else:\n",
    "            # 从当前植株跳到下一个植株\n",
    "            time_to_reach = abs(current_row - row) + abs(current_col - col)\n",
    "        \n",
    "        # 计算采摘这棵植株所需的总时间\n",
    "        time_needed = time_to_reach + 1  # 加上采摘时间\n",
    "        \n",
    "        # 计算从这棵植株返回路边所需的时间\n",
    "        time_to_return = row + 1\n",
    "        \n",
    "        if time_spent + time_needed + time_to_return <= K:\n",
    "            # 如果在限定时间内可以完成采摘并返回\n",
    "            total_peanuts += peanuts\n",
    "            time_spent += time_needed\n",
    "            current_row, current_col = row, col\n",
    "        else:\n",
    "            # 如果时间不够，结束采摘\n",
    "            break\n",
    "    \n",
    "    return total_peanuts\n",
    "\n",
    "# 示例输入\n",
    "M = 6\n",
    "N = 7\n",
    "K = 20\n",
    "field = [\n",
    "    [0, 0, 0, 0, 0, 0, 0],\n",
    "    [0, 0, 0, 0, 13, 0, 0],\n",
    "    [0, 0, 0, 0, 0, 0, 7],\n",
    "    [0, 15, 0, 0, 0, 0, 0],\n",
    "    [0, 0, 0, 9, 0, 0, 0],\n",
    "    [0, 0, 0, 0, 0, 0, 0]\n",
    "]\n",
    "print(max_peanuts(M, N, K, field))  # 输出：37\n"
   ]
  },
  {
   "cell_type": "markdown",
   "metadata": {},
   "source": [
    "### 题目3：摆放棋盘\n",
    "\n",
    "典型的DFS。很类似于 n 皇后问题，可以一行一行往下递归，递归里每次判断 `'#'` 是否存在 `'#'` 且可以放置（这一列已经被用过了）\n",
    "\n",
    "DFS 回溯，一般一判断条件（是否达成/失败，要return，跳出，防止无穷递归）；二是查找可深入的地方，三判断，是否可以进入，四进入递归。跳出递归的时候注意回溯。\n",
    "- 每次搜索一下这一行所有列\n",
    "- 遇到 `'#'` 并且查一下是否已经有别的列使用了这个的对应列就行，就是 n 皇后的 `can_place` 函数。\n",
    "- 如果可以则把这一列标记为已使用，然后进入 dfs 下一层，退出时把其删掉，就是一个回溯。\n",
    "- 只要旗子放完了，就记一次成功放置！这个成功放置要 global。\n",
    "- 注意，因棋子个数可能少于空格格数，少于行数，故存在跳过的可能。"
   ]
  },
  {
   "cell_type": "code",
   "execution_count": null,
   "metadata": {},
   "outputs": [
    {
     "name": "stdout",
     "output_type": "stream",
     "text": [
      "2\n"
     ]
    }
   ],
   "source": [
    "def dfs(row, placed, n, k, board, used_cols):\n",
    "    global count\n",
    "    if placed == k:  # 达到了 k 个棋子，则成功\n",
    "        count += 1\n",
    "        return\n",
    "    if row >= n:  # 超出行数，则剪枝\n",
    "        return\n",
    "    \n",
    "    # 直接跳过没有棋盘格的行\n",
    "    if '#' not in board[row]:\n",
    "        dfs(row + 1, placed, n, k, board, used_cols)\n",
    "        return\n",
    "    \n",
    "    # 尝试在当前行放置棋子\n",
    "    for col in range(n):\n",
    "        if board[row][col] == '#' and col not in used_cols:\n",
    "            used_cols.add(col)  # 标记该列已使用\n",
    "            dfs(row + 1, placed + 1, n, k, board, used_cols)\n",
    "            used_cols.remove(col)  # 回溯\n",
    "            \n",
    "    \n",
    "    dfs(row + 1, placed, n, k, board, used_cols) # 往下深入一层，这一行不放，placed 不变。\n",
    "\n",
    "n, k = 2, 1\n",
    "board = [\n",
    "    \"#.\",\n",
    "    \".#\"\n",
    "]\n",
    "count = 0\n",
    "used_cols = set()\n",
    "dfs(0, 0, n, k, board, used_cols)\n",
    "\n",
    "# 输出结果\n",
    "print(count)"
   ]
  },
  {
   "cell_type": "markdown",
   "metadata": {},
   "source": [
    "### 题目4：最大上升子序列和\n",
    "\n",
    "典型的动态规划，但注意不是求最长的上升子序列。而是要求出和最大的上升子序列。\n",
    "\n",
    "仍然设置 dp 数组：设 dp[i] 表示 以第 i 个数结尾的最大上升子序列和。\n",
    "\n",
    "那么对于 dp[i] 来说，假设第 `i` 项结尾了，其可能就是前面的所有 `j` 项的最大上升子序列之和加上 `nums[i]`。但注意，为保证整个过程上升，需要满足 `nums[j] < nums[i]` 的条件，则第 i 项可能会放到其后面。\n",
    "\n",
    "因此，状态转移方程为：\n",
    "\n",
    "$$ \\text{dp}[i] = \\displaystyle \\max_{0\\leq j < i ,\\, \\, \\text{nums}[j] < \\text{nums}[i]} \\{\\text{dp}[j] + \\text{nums}[i]\\} $$\n",
    "\n",
    "你会发现，实际上如果你把转移方程里的 $\\text{nums[i]}$ 换成 1 ，就是最长上升子序列的转移方程！\n",
    "\n",
    "请注意，因为子序列不一定以最后一个结尾，所以我们最后返回的应该是 $\\max{\\text{dp}}$，而不是 $\\text{dp}[-1]$！代码不难写出。通过率超80%，北大智能级别的，很正常。\n"
   ]
  },
  {
   "cell_type": "code",
   "execution_count": null,
   "metadata": {},
   "outputs": [
    {
     "name": "stdout",
     "output_type": "stream",
     "text": [
      "18\n"
     ]
    }
   ],
   "source": [
    "def func(arr):\n",
    "    dp = arr[:]  # dp[i] 初始化为自身\n",
    "    for i in range(len(arr)):\n",
    "        for j in range(i):\n",
    "            if arr[j] < arr[i]:  \n",
    "                dp[i] = max(dp[i], dp[j] + arr[i])  # 更新 dp[i]\n",
    "    \n",
    "    return max(dp)  # 取 dp 中的最大值\n",
    "\n",
    "arr = [1, 7, 3, 5, 9, 4, 8]\n",
    "print(func(arr))\n"
   ]
  },
  {
   "cell_type": "markdown",
   "metadata": {},
   "source": [
    "### 题目5："
   ]
  }
 ],
 "metadata": {
  "kernelspec": {
   "display_name": "Python 3",
   "language": "python",
   "name": "python3"
  },
  "language_info": {
   "codemirror_mode": {
    "name": "ipython",
    "version": 3
   },
   "file_extension": ".py",
   "mimetype": "text/x-python",
   "name": "python",
   "nbconvert_exporter": "python",
   "pygments_lexer": "ipython3",
   "version": "3.10.6"
  }
 },
 "nbformat": 4,
 "nbformat_minor": 2
}
