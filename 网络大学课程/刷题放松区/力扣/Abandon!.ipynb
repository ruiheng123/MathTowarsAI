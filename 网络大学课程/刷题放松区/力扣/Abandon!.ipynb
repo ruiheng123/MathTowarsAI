{
 "cells": [
  {
   "cell_type": "markdown",
   "metadata": {},
   "source": [
    "# Abandon!\n",
    "\n",
    "每次你考四六级，背单词时，如果你的单词书是正序版，那一般都见到第一个单词“abandon”，然后反反复复，就真的 abandon 放弃了。\n",
    "\n",
    "现在，你到了算法题这边，你每次进入“力扣”，都会从“两数之和”开始。"
   ]
  },
  {
   "cell_type": "code",
   "execution_count": 2,
   "metadata": {},
   "outputs": [
    {
     "name": "stdout",
     "output_type": "stream",
     "text": [
      "[0, 1]\n"
     ]
    }
   ],
   "source": [
    "from typing import List\n",
    "class Solution:\n",
    "    def twoSum(self, nums: List[int], target: int) -> List[int]:\n",
    "        n = len(nums)\n",
    "        for i in range(n):\n",
    "            for j in range(i + 1, n):\n",
    "                if nums[i] + nums[j] == target:\n",
    "                    return [i, j]\n",
    "        \n",
    "        return []\n",
    "sol = Solution()\n",
    "print(sol.twoSum([2, 7, 11, 15],9))\n"
   ]
  },
  {
   "cell_type": "markdown",
   "metadata": {},
   "source": [
    "没错，它就是两数之和，也就是给定一个 sum，让你从一个数组中找到是哪两个数加在一起得到这个sum。我们假设了这个数组不会出现相同的2项。\n",
    "\n",
    "我们直接想到的，就是两层循环，`a[i] + a[j] = sum` 即可。这就是暴力穷举。直接想到的，复杂度是 $O(n^2)$是较大的。不过，没有任何额外存储开销，空间复杂度是 $O(1)$。\n",
    "\n",
    "降低到线性复杂度的方法，就是哈希表。你会发现，当你检索`a`时，在查找 `num - a` 又需要 $O(n)$的复杂度，如果有一个哈希表记忆，那复杂度就是 $O(1)$！因为我们要找 `a + b = num`，那我们直接 `b = num - a`，就可以少一层循环！\n",
    "\n",
    "因为，哈希表可以让查找的复杂度降到$O(1)$。也就是说，你可以加一个dict，key是数组中的值，value是这个值的索引。\n",
    "\n",
    "然后，你可以遍历数组，在到达`a`时，去dict中找 `num - a` 是否在其中。其实思想就是：\n",
    "- 假设你在一排数字里，你一个一个看。看到了 `a`，把 `a` 和它的索引记录下来。\n",
    "- 当你走到 `num - a` 时，你突然想起——这我找到过`a`！\n",
    "- 这样你遍历一次，带上你的那个记忆的 dict，也就是哈希表，就可以仅需一重循环，从而降低到 $O(n)$ 的时间复杂度。"
   ]
  },
  {
   "cell_type": "code",
   "execution_count": 3,
   "metadata": {},
   "outputs": [
    {
     "name": "stdout",
     "output_type": "stream",
     "text": [
      "[0, 1]\n"
     ]
    }
   ],
   "source": [
    "class Solution:\n",
    "    def twoSum(self, nums: List[int], target: int) -> List[int]:\n",
    "        hashtable = dict()\n",
    "        for i, num in enumerate(nums):\n",
    "            if target - num in hashtable:\n",
    "                return [hashtable[target - num], i]\n",
    "            hashtable[nums[i]] = i\n",
    "        return []\n",
    "sol = Solution()\n",
    "print(sol.twoSum([2, 7, 11, 15],9))"
   ]
  },
  {
   "cell_type": "markdown",
   "metadata": {},
   "source": [
    "不过，我们升级一下，三数之和呢？直觉想到的肯定还是暴力穷举，也就是三重循环，但是复杂度 $O(N^3)$ 那就太大了！"
   ]
  },
  {
   "cell_type": "code",
   "execution_count": null,
   "metadata": {},
   "outputs": [],
   "source": [
    "class Solution:\n",
    "    def threeSum(self, nums: List[int]) -> List[List[int]]:\n",
    "        n = len(nums)\n",
    "        nums.sort()\n",
    "        ans = list()\n",
    "        \n",
    "        # 枚举 a\n",
    "        for first in range(n):\n",
    "            # 需要和上一次枚举的数不相同\n",
    "            if first > 0 and nums[first] == nums[first - 1]:\n",
    "                continue\n",
    "            # c 对应的指针初始指向数组的最右端\n",
    "            third = n - 1\n",
    "            target = -nums[first]\n",
    "            # 枚举 b\n",
    "            for second in range(first + 1, n):\n",
    "                # 需要和上一次枚举的数不相同\n",
    "                if second > first + 1 and nums[second] == nums[second - 1]:\n",
    "                    continue\n",
    "                # 需要保证 b 的指针在 c 的指针的左侧\n",
    "                while second < third and nums[second] + nums[third] > target:\n",
    "                    third -= 1\n",
    "                # 如果指针重合，随着 b 后续的增加\n",
    "                # 就不会有满足 a+b+c=0 并且 b<c 的 c 了，可以退出循环\n",
    "                if second == third:\n",
    "                    break\n",
    "                if nums[second] + nums[third] == target:\n",
    "                    ans.append([nums[first], nums[second], nums[third]])\n",
    "        \n",
    "        return ans\n"
   ]
  }
 ],
 "metadata": {
  "kernelspec": {
   "display_name": "Python 3",
   "language": "python",
   "name": "python3"
  },
  "language_info": {
   "codemirror_mode": {
    "name": "ipython",
    "version": 3
   },
   "file_extension": ".py",
   "mimetype": "text/x-python",
   "name": "python",
   "nbconvert_exporter": "python",
   "pygments_lexer": "ipython3",
   "version": "3.10.6"
  }
 },
 "nbformat": 4,
 "nbformat_minor": 2
}
